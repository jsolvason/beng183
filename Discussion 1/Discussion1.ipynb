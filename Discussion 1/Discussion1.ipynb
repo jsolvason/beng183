{
 "cells": [
  {
   "cell_type": "markdown",
   "id": "4ce36de2-2e82-49e3-a2dd-e3aab1cb7db5",
   "metadata": {},
   "source": [
    "# Acknowledgement\n",
    "Tutorial adapted from https://github.com/Irenexzwen ([link](https://github.com/Irenexzwen/BIOE183/blob/master/Tutorial1_Preparation.md))"
   ]
  },
  {
   "cell_type": "markdown",
   "id": "1e83117d-eebe-4222-a400-17ccbd1d3706",
   "metadata": {},
   "source": [
    "# Tutorial 1 Preparation  \n",
    "In this tutorial, you will learn to \n",
    "  1) (Windows users only) set up Linux environment on your laptop ,\n",
    "  2) learn Linux basics\n",
    "  3) download and install softwares useful for genomic data analysis and required for this course.\n",
    "  "
   ]
  },
  {
   "cell_type": "markdown",
   "id": "a814fd32-e88a-4a44-bafb-958f1ced565a",
   "metadata": {},
   "source": [
    "## Why use the command line (aka linux, terminal, bash)?\n",
    "\n",
    "The command line is an alternative to using the Desktop+Mouse Graphical User Interface (GUI). You can navigate folders (called \"Directories\" in command line), create folders or files, and run commands that are not supported by a GUI, etc.\n",
    "\n",
    "Most bioinformatics analysis deals with very large datasets (from hundreds of GBs to several TB), which is impractical for manual checking and modification. \n",
    "In this case, most bioinformatics person put linux/Unix in their daily toolbox. With a lot commands that especially designed for large text file,\n",
    "you're able to sort / extract / subsititute / get the head / get the tail / search super fast without loading the whole file into your memory \n",
    "( as you will load the big file into your memory if it is opened in a windows / mac text reader ).\n",
    "\n",
    "Beyond that, Linux OS is also \n",
    "- convinent and compatible with mutiple versions of the same software.\n",
    "- easy to build up pipelines for batch files processing. \n",
    "- super cool text processing softwares and text editor. \n",
    "- Great habitat for a lot of open source softwares ( especially the ones for bioinformatics ). "
   ]
  },
  {
   "cell_type": "markdown",
   "id": "5dec32da-ebb0-487f-b0cd-067a2364eccf",
   "metadata": {
    "tags": []
   },
   "source": [
    "# (For windows users only) Prepare a linux working environment\n",
    "## My system is MacOS:\n",
    "You can directly type Linux commands on your computer. Open up the application \"Terminial\" and skip to the \"Linux basics\" section."
   ]
  },
  {
   "cell_type": "markdown",
   "id": "0f8e07bf-576e-4c7e-b257-79389a129a95",
   "metadata": {
    "tags": []
   },
   "source": [
    "## My system is windows:\n",
    "For windows users, your options would be: \n",
    "1) Download one linux system distribution from windows store ( Ubuntu recommended ).\n",
    "2) Log in a known server ( if your lab or other sources could provide you an account to an linux system ). \n",
    "3) Download a virtual machine and install an linux system. \n",
    "\n",
    "The first option would be recommended as the windows has it's own Windows Subsystem Language embedded. \n",
    "For the first 5min of the [video](https://www.youtube.com/watch?v=xzgwDbe7foQ), you will learn how to set up a linux distribution \"Ubuntu\" of your windows 10 system. \n",
    "\n",
    "Basically the steps include:\n",
    "1) search \"features\" in windows10, open \"Turn Windows features on or off\".\n",
    "2) On \"Windows Features,\" tick the Windows Subsystem for Linux.\n",
    "3) Choose \"restart your computer right now\" after you click ok. \n",
    "4) Download and install Ubuntu from the [windows store](https://www.microsoft.com/en-us/p/ubuntu/9nblggh4msv6?ocid=AID2000142_aff_7593_159229&tduid=%28ir__ka1wk3nrygkfr3k2kk0sohzixu2xg0e9pm2nab1600%29%287593%29%28159229%29%28%29%28UUwpUdUnU49661YYwYg%29&rtc=1&irgwc=1&irclickid=_ka1wk3nrygkfr3k2kk0sohzixu2xg0e9pm2nab1600&activetab=pivot:overviewtab).\n",
    "5) Run ubuntu and setup your user name and password.\n",
    "\n",
    "Once you finished that, you should see something like this:\n",
    "<img src=\"https://github.com/Irenexzwen/BIOE183/blob/master/images/ubuntu.png\">\n",
    "Now you're officially logged into a linux system on your own computer! Next, we're going to learn more linux skills that will enable you to walk around your computer file system as easy as your familiar system. "
   ]
  },
  {
   "cell_type": "markdown",
   "id": "5b460aa5-c975-47e3-aca4-328e4956a4b8",
   "metadata": {
    "tags": []
   },
   "source": [
    "# Linux basics:\n",
    "The file system structure of linux is hierarchical, everything is a file (document, .exe, script, .mp3 etc) at a specific layer of the system. Unlike windows, which store files on different drives (C: D: G: etc). The \"/\" is the root of the whole system, and any other files are stored in different levels of the tree. Important folders have been listed below, about their naming tradition one can refer to [here](http://www.linuxstories.net/linux-directory-structure-file-system-structure/).\n",
    "<img src=\"https://github.com/WGLab/dragonstar2019/blob/master/day1_linux/img/directory.png\"> "
   ]
  },
  {
   "cell_type": "markdown",
   "id": "08d84ed3-d286-4ada-ac36-13272fa82a38",
   "metadata": {
    "tags": []
   },
   "source": [
    "### 1) directory navigation\n",
    "Home directory:\n",
    "Everytime you open \"Ubuntu\" you will see the shell prompt like:\n",
    "\n",
    "`user_name @ servername: current_directory $ COMMAND_TYPE_HERE`.\n",
    "\n",
    "Every new user will have their own home directory: `/home/user_name`, your home directory are often short for `~`,which you could check it here:\n",
    "<img src=\"https://github.com/Irenexzwen/BIOE183/blob/master/images/linux.png\">\n",
    "\n",
    "Relative path and absolute path:\n",
    "```\n",
    "## The following characters have special meanings in linux system.\n",
    ".     # current work directory\n",
    "..    # parent directory\n",
    "-     # previous work directory\n",
    "~     # home directory\n",
    "```"
   ]
  },
  {
   "cell_type": "markdown",
   "id": "e570d932-e56b-4957-b24a-5a2c0415408a",
   "metadata": {
    "tags": []
   },
   "source": [
    "Navigate between directories:\n",
    "```Shell\n",
    "cd \\mnt\\c       # change directory to \\mnt\\c\n",
    "cd ..           # change to parent directory\n",
    "cd .            # stay where you are \n",
    "pwd             # Check the absolute path of current directory\n",
    "mkdir A         # Make a new directory at the current path called A.\n",
    "rmdir -r A      # remove a A at the current path. (here -r means, remove A in an recursively fashion.)\n",
    "```"
   ]
  },
  {
   "cell_type": "markdown",
   "id": "397361c9-e2df-4a80-9c60-1edc289ff5a0",
   "metadata": {
    "tags": []
   },
   "source": [
    "### 2) Check files in current folder:\n",
    "```Shell\n",
    "ls            # list files in current folder, not include hidden files\n",
    "ls -a         # list files in current folder, include hidden files\n",
    "ls -t         # list files in current folder, sorted by time\n",
    "man ls        # check all the features of tool `ls`\n",
    "```"
   ]
  },
  {
   "cell_type": "markdown",
   "id": "529e5335-859c-4749-ac4a-eb5545580217",
   "metadata": {
    "tags": []
   },
   "source": [
    "### 3) Copy, rename and delete a file or folder:\n",
    "```Shell\n",
    "cp A B     # copy file A to file B in current folder, you could also change B to a absolute path\n",
    "rm A       # remove file A \n",
    "rm *.txt   # remove all txt files (* is a wildcard character)\n",
    "rm -rf A   # remove directory A without inquiry ( could be dangerous some time )\n",
    "mv A B     # change the name of file(folder) A to B \n",
    "mv A C     # move A into folder C ( if C is a folder) \n",
    "```"
   ]
  },
  {
   "cell_type": "markdown",
   "id": "79a9a392-fbeb-4bc9-90b8-06ff5d6628e7",
   "metadata": {
    "tags": []
   },
   "source": [
    "### 4) Check text file and modification:\n",
    "```Shell\n",
    "less m.txt              # check file m.txt, scroll down a file using ↑ and ↓ (most commonly used)\n",
    "cat m.txt               # open file m.txt from the beginning to end\n",
    "tac m.txt               # open file m.txt from the end to beginning\n",
    "head -n 10 m.txt        # only open the first 10 lines of m.txt\n",
    "tail -n 10 m.txt        # only open the last 10 lines of m.txt\n",
    "```"
   ]
  },
  {
   "cell_type": "markdown",
   "id": "669d2b1a-53fa-4a84-9ac5-559381ed03f9",
   "metadata": {
    "tags": []
   },
   "source": [
    "To learn more about linux basic operations, you could check these resources:\n",
    "- bash command notebook from UCSD people! Thanks Jessica Zhou and Bill Greenwald (be sure to use jaccob engineering email to login): [here](https://colab.research.google.com/drive/1RRxtCSvTgXnLZWnfXvHpVu8G1-yR3-bl)\n",
    "- Linux tutorial from MIT: [here](http://math.mit.edu/services/help/new/unix.php).\n",
    "- Unix/Linux tutorial from Berkeley: [here](https://people.ischool.berkeley.edu/~kevin/unix-tutorial/toc.html).\n",
    "\n",
    "*Corresponding between windows file path and Ubuntu file path system.*\n",
    "\n",
    "```Shell\n",
    "\\mnt\\c   <-----> C:\\\n",
    "\\mnt\\d   <-----> D:\\\n",
    "```"
   ]
  },
  {
   "cell_type": "markdown",
   "id": "fea75b96-efcc-40cb-b4b1-52bbe5d32446",
   "metadata": {
    "tags": []
   },
   "source": [
    "### Using `wget` and `curl`\n",
    "`wget` download the script into the folder, `bash x.sh` is excute x.sh file. During the installation you are required to follow the instructions prompted from Miniconda.  Note that `wget` is not installed by default on macOS. When you see commands to download data using `wget`, you can use curl instead. \n",
    "\n",
    "For example, instead of typing...\n",
    "\n",
    "`wget data_url`\n",
    "\n",
    "...you can instead type...\n",
    "\n",
    "`curl data_url > /desired/path/data_name`"
   ]
  },
  {
   "cell_type": "markdown",
   "id": "b3ff52e0-7749-4acc-b987-d560b0734764",
   "metadata": {
    "tags": []
   },
   "source": [
    "## Software installation with miniconda\n",
    "Next we're going to download and install some softwares for bioinformatics analysis, especially for this project - RNAseq analysis.\n",
    "Most people use [Anaconda](https://en.wikipedia.org/wiki/Anaconda_(Python_distribution)) as a package management tool for python. However, it's power is much beyond that, here we're gonna use miniconda (lightweight version of conda without preinstalled some popular packages)."
   ]
  },
  {
   "cell_type": "markdown",
   "id": "46a46639-9726-4342-b307-5a70e0cf8c97",
   "metadata": {
    "tags": []
   },
   "source": [
    "### Download installation script on your favorite place on your computer:\n",
    "For example, I'm gonna download and install it on D:\\Miniconda on my own computer:\n",
    "```Shell\n",
    "$ cd /mnt/d\n",
    "$ mkdir Miniconda\n",
    "$ cd Miniconda\n",
    "\n",
    "# for Windows users\n",
    "$ wget https://repo.anaconda.com/miniconda/Miniconda3-latest-Linux-x86_64.sh  \n",
    "$ bash Miniconda3-latest-Linux-x86_64.sh \n",
    "\n",
    "# for Mac users\n",
    "$ wget https://repo.anaconda.com/miniconda/Miniconda3-latest-MacOSX-x86_64.sh  \n",
    "$ bash Miniconda3-latest-MacOSX-x86_64.sh \n",
    "\n",
    "```"
   ]
  },
  {
   "cell_type": "markdown",
   "id": "c1e05c94-95a2-474f-8e3a-fd9361bb4008",
   "metadata": {
    "tags": []
   },
   "source": [
    "If you install conda with default setting, the excutable conda usually locates in somewhere else, for example:\n",
    "<img src=\"https://github.com/Irenexzwen/BIOE183/blob/master/images/conda.png\">\n",
    "\n",
    "Now we need to add that path into our environment default path so that you could use `conda` anywhere.\n",
    "```Shell\n",
    "export PATH=\"/path/to/your/miniconda3/bin/:$PATH\"\n",
    "conda   # running conda, now you should see the conda is successfully installed.\n",
    "```"
   ]
  },
  {
   "cell_type": "markdown",
   "id": "a2c03779-f499-430d-8e74-9fc965c03d80",
   "metadata": {
    "tags": []
   },
   "source": [
    "### Use bioconda to install softwares we want:\n",
    "[Bioconda](https://daler.github.io/bioconda-docs/) is a channel for the conda package manager specializing in bioinformatics softwares. A full list could be found [here](https://anaconda.org/bioconda/repo). It also provides convient way for version checking on different softwares as well as virtual environment for each individual project or different analysis pipelines. \n",
    "\n",
    "Now, we're going to install softwares that will be useful for RNAseq analysis. \n",
    "\n",
    "#### 1)Step1, set up a virtual environment specially for this RNAseq analysis project:\n",
    "```Shell\n",
    "conda create -n rnaseq python=3         # create an environment called \"rnaseq\", and install python3 .\n",
    "conda init bash \n",
    "```\n",
    "Close your current bash and restart ubuntu. Now you could see `(base)` has been had at the beginning of the orginal line. Then you switch to RNAseq environment and install packages only in this environment.\n",
    "\n",
    "```Shell\n",
    "conda activate rnaseq                   # activate a new environment called rnaseq\n",
    "conda deactivate                 \t\t# deactivate \n",
    "```\n",
    "\n",
    "Add bioconda source:\n",
    "```Shell\n",
    "conda config --add channels conda-forge\n",
    "conda config --add channels defaults\n",
    "conda config --add channels r\n",
    "conda config --add channels bioconda\n",
    "```\n",
    "\n",
    "More options for conda:\n",
    "```Shell\n",
    "conda env list         # check all virtual environment on your machine\n",
    "conda list             # list out all the packages installed in this conda environment\n",
    "conda update conda     # update conda\n",
    "conda update A         # update package A\n",
    "conda search A         # check whether package A is in the source channel.\n",
    "\n",
    "conda env remove -n ENV_NAME    # remove a virtual environment.\n",
    "```\n",
    "\n",
    "Install packages: \n",
    "```Shell\n",
    "conda install fastp=0.20.0 \n",
    "conda install fastqc=0.11.8\n",
    "conda install subread=1.6.4\n",
    "conda install samtools=1.9\n",
    "conda install htseq=0.11.2\n",
    "conda install hisat2=2.1.0\n",
    "conda install star=2.7.2b\n",
    "···\n",
    "```"
   ]
  },
  {
   "cell_type": "markdown",
   "id": "6211c4ea-09ab-4c34-98b2-f580a3339a5a",
   "metadata": {},
   "source": [
    "### Installing any package using conda"
   ]
  },
  {
   "cell_type": "markdown",
   "id": "cf18acc3-00a6-4fea-bd50-b37a2112e061",
   "metadata": {},
   "source": [
    "Generally you can install any package by googling \"conda install package_name\". Most applications are installable via `conda`, but some require `pip`."
   ]
  }
 ],
 "metadata": {
  "kernelspec": {
   "display_name": "Python 3 (ipykernel)",
   "language": "python",
   "name": "python3"
  },
  "language_info": {
   "codemirror_mode": {
    "name": "ipython",
    "version": 3
   },
   "file_extension": ".py",
   "mimetype": "text/x-python",
   "name": "python",
   "nbconvert_exporter": "python",
   "pygments_lexer": "ipython3",
   "version": "3.9.7"
  },
  "toc-autonumbering": false
 },
 "nbformat": 4,
 "nbformat_minor": 5
}
