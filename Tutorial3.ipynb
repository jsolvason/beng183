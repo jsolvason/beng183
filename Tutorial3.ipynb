{
 "cells": [
  {
   "cell_type": "markdown",
   "id": "dac4b940-ec7b-4128-bfa9-5859d7e285f1",
   "metadata": {},
   "source": [
    "# Tutorial3 Mapping and Quantification\n",
    "In this tutorial you're gonna learn how to map the RNAseq data to a drosophila reference genome and quantify each gene's expression level. "
   ]
  },
  {
   "cell_type": "markdown",
   "id": "b05cacfa-6b47-40e4-8ba0-b56b894ca9a5",
   "metadata": {},
   "source": [
    "## 1.Introduction of Reads mapping\n",
    "http://chagall.med.cornell.edu/RNASEQcourse/Slides_July2019_Day2.pdf"
   ]
  },
  {
   "cell_type": "markdown",
   "id": "5fa06ff4-de98-445c-924f-e5a300466250",
   "metadata": {},
   "source": [
    "## 2.Different mapping strategy \n",
    "### 2.1 Alignment based\n",
    "### 2.2 Alignment free\n",
    "More info here: [Alignment-free sequence comparison: benefits, applications, and tools](https://genomebiology.biomedcentral.com/articles/10.1186/s13059-017-1319-7)"
   ]
  },
  {
   "cell_type": "markdown",
   "id": "7549e0bc-bec4-49f1-96dd-f6c969eb388f",
   "metadata": {},
   "source": [
    "## 3.Get raw data and reference sequences ready\n",
    "### 3.1 Raw data cleaning and preprocessing\n",
    "We will use RNAseq data from [FlyAtlas2 database](http://flyatlas.gla.ac.uk/FlyAtlas2/index.html), which collects hundreds of RNAseq data of drosophila melanogaster. You can search by gene, category or tissue.\n",
    "\n",
    "The raw RNAseq data can be found on the [resource page](https://github.com/Irenexzwen/BIOE183/blob/master/README.md) for the homework tutorials. If you'd like, you can analyze and clean the raw data using the techniques you learned from Tutorial 2.\n",
    "\n",
    "Otherwise, we have conveniently provided the cleaned data for you here:\n",
    "- CHANGE!!!!!! [[female_head1_R1_clean]](http://sysbio.ucsd.edu/public/wenxingzhao/CourseFall2019/DS_raw/F_head1_clean_R1.fq),[[female_head1_R2_clean]](http://sysbio.ucsd.edu/public/wenxingzhao/CourseFall2019/DS_raw/F_head1_clean_R2.fq)\n",
    "                   \n",
    "- CHANGE!!!!!! [[female_head2_R1_clean]](http://sysbio.ucsd.edu/public/wenxingzhao/CourseFall2019/DS_raw/F_head2_clean_R1.fq),[[female_head2_R2_clean]](http://sysbio.ucsd.edu/public/wenxingzhao/CourseFall2019/DS_raw/F_head2_clean_R2.fq)\n",
    "\n",
    "- CHANGE!!!!!! [[female_midgut1_R1_clean]](http://sysbio.ucsd.edu/public/wenxingzhao/CourseFall2019/DS_raw/F_midgut1_clean_R1.fq),[[female_midgut1_R2_clean]](http://sysbio.ucsd.edu/public/wenxingzhao/CourseFall2019/DS_raw/F_midgut1_clean_R2.fq)\n",
    "                     \n",
    "- CHANGE!!!!!! [[female_midgut2_R1_clean]](http://sysbio.ucsd.edu/public/wenxingzhao/CourseFall2019/DS_raw/F_midgut2_clean_R1.fq),[[female_midgut2_R2_clean]](http://sysbio.ucsd.edu/public/wenxingzhao/CourseFall2019/DS_raw/F_midgut2_clean_R2.fq)"
   ]
  },
  {
   "cell_type": "markdown",
   "id": "faf100e7-95ed-4427-a3ef-8f43b91ae2d6",
   "metadata": {},
   "source": [
    "### 3.2 Reference sequences\n",
    "You could download reference genome / transcriptome / gtf files of your familiar species from [ENSEMBLE](https://uswest.ensembl.org/info/data/ftp/index.html).\n",
    "If you are analyzing Human or Mouse, you could also try Genecode.\n",
    "\n",
    "```Shell\n",
    "# Download drosophila genome reference sequence \n",
    "wget ftp://ftp.ensembl.org/pub/release-97/fasta/drosophila_melanogaster/dna/Drosophila_melanogaster.BDGP6.22.dna.toplevel.fa.gz\n",
    "gzip -d Drosophila_melanogaster.BDGP6.22.dna.toplevel.fa.gz  # decompress .gz file \n",
    "\n",
    "# Download drosophila transctiptome (cDNA) sequence\n",
    "wget ftp://ftp.ensembl.org/pub/release-97/fasta/drosophila_melanogaster/cdna/Drosophila_melanogaster.BDGP6.22.cdna.all.fa.gz\n",
    "gzip -d Drosophila_melanogaster.BDGP6.22.cdna.all.fa.gz\n",
    "\n",
    "# Download drosophila annotation gtf file\n",
    "wget ftp://ftp.ensembl.org/pub/release-97/gtf/drosophila_melanogaster/Drosophila_melanogaster.BDGP6.22.97.chr.gtf.gz\n",
    "gzip -d Drosophila_melanogaster.BDGP6.22.97.chr.gtf.gz\n",
    "```"
   ]
  },
  {
   "cell_type": "markdown",
   "id": "22372ea6-c3ec-4001-8295-8823a72545c7",
   "metadata": {},
   "source": [
    "## 4.Align to the genome and quantification\n",
    "We will use STAR to align reads to the whole genome.\n",
    "```Shell\n",
    "conda install star\n",
    "\n",
    "# check if STAR has been successfully installed.\n",
    "STAR -h \n",
    "\n",
    "# build index\n",
    "STAR --runThreadN 10 --runMode genomeGenerate \\\n",
    "--genomeDir /DS/reference/genome_STARidx \\\n",
    "--genomeFastaFiles /DS/reference/Drosophila_melanogaster.BDGP6.22.dna.toplevel.fa \\\n",
    "--sjdbGTFfile /DS/reference/Drosophila_melanogaster.BDGP6.22.97.chr.gtf \\\n",
    "--sjdbOverhang 100 #reads length minus 1                                               \n",
    "```\n",
    "(Change the file paths to reflect where the respective files are located on your computer.)\n",
    "\n",
    "`--runThreadN` Number of threads you use to run on your computer.  \n",
    "\n",
    "`--genomeDir` The place you want to put your reference. (Make sure the location already exists; the command does not make a new folder.)\n",
    "\n",
    "`--genomeFastaFiles` The genome fasta file we've just downloaded and uncompressed.  \n",
    "\n",
    "`--sjdbGTFfile` Gtf file.  \n",
    "\n",
    "`--sjdbOverhang` Usually equals read length minus 1.  \n",
    "\n",
    "It might take some time to finish the alignment, and the total Memory usage peak at 10g during this process. If this memory requirement is beyond your computer, you could download the pre-computed index from our resource page. \n",
    "\n",
    "After we build the index, we're gonna map our reads towards the genome."
   ]
  },
  {
   "cell_type": "markdown",
   "id": "b9504471-341f-4278-b066-b75043b6da08",
   "metadata": {},
   "source": [
    "```Shell\n",
    "for i in F_head1 F_head2 F_midgut1 F_midgut2\n",
    "do\n",
    "printf \"STAR \n",
    "        --runThreadN 20 \n",
    "        --genomeDir /DS/reference/genome_STARidx \n",
    "        --readFilesIn ${i}_clean_R1.fq ${i}_clean_R2.fq \n",
    "        --outSAMtype BAM SortedByCoordinate \n",
    "        --outFileNamePrefix ./${i}_STAR_genome\" > ${i}_STAR.sh\n",
    "        bash ${i}_STAR.sh \n",
    "done\n",
    "```\n",
    "This will give you two important results:\n",
    "1) A sorted [bam file](https://support.illumina.com/help/BS_App_RNASeq_Alignment_OLH_1000000006112/Content/Source/Informatics/BAM-Format.htm) based on the coordinates.\n",
    "2) A final \\*Log.final.out file that includes mapping results information: total mapping ratio / unique mapping ratio / number of mapped reads etc. \n",
    " \n",
    "#### Quantify gene expression level using FeatureCount\n",
    "Once you get the bam file (which records each reads align to which specific locations of the genome), you may want to summarize reads abundance for each gene.   \n",
    "```Shell\n",
    "for i in F_head1 F_head2 F_midgut1 F_midgut2\n",
    "do\n",
    "        printf \"\n",
    "        featureCounts -p -a                                 \n",
    "        /DS/reference/Drosophila_melanogaster.BDGP6.22.97.chr.gtf -T 10 -o ${i}_count.txt \n",
    "        /DS/quant/STAR/${i}*.bam\" > ${i}.sh\n",
    "        bash ${i}.sh \n",
    "done\n",
    "\n",
    "```\n",
    "`-p` Check validity of paired-end distance.  \n",
    "\n",
    "`-a` Name of an annotation file. GTF/GFF format by default.\n",
    "\n",
    "To compare different featureCounts results into a whole, you could utilize some Unix techniques you've learned previously."
   ]
  },
  {
   "cell_type": "markdown",
   "id": "be39a1da-1dbe-4058-8470-1f9b3870a98a",
   "metadata": {},
   "source": [
    "```Shell\n",
    "paste <(less F_head1_count.txt|cut -f1,7-|sed 1d) <(less F_head2_count.txt|cut -f1,7-|sed 1d) <(less F_midgut1_count.txt|cut -f1,7-|sed 1d) <(less F_midgut2_count.txt|cut -f1,7-|sed 1d)|cut -f 1,2,4,6,8 > all_sample_count.txt\n",
    "```\n",
    "\n",
    "#### Normalization using bamCoverage\n",
    "bamCoverage takes an alignment of reads or fragments as input (BAM file) and generates a coverage track (bigWig or bedGraph) as output. The coverage is calculated as the number of reads per bin, where bins are short consecutive counting windows of a defined size.\n",
    "\n",
    "bamCoverage offers normalization by:\n",
    "- RPKM = Reads Per Kilobase per Million mapped reads\n",
    "- CPM = Counts Per Million mapped reads, same as CPM in RNA-seq\n",
    "- BPM = Bins Per Million mapped reads, same as TPM in RNA-seq\n",
    "- RPGC = reads per genomic content (1x normalization)\n",
    "\n",
    "You may need to install the deeptools package which has the bamCoverage tool:\n",
    "```\n",
    "conda install -c bioconda deeptools\n",
    "```\n",
    "\n",
    "To run bamCoverage with BPM (TPM) normalization:\n",
    "```\n",
    "bamCoverage -b filename.bam -o filename.bw --normalizeUsing BPM\n",
    "```\n",
    "\n",
    "## 5.Align to the transcriptome and quantification using alignment-free method\n",
    "We will use kallisto to do pseudoalignment. \n",
    "```Shell\n",
    "\n",
    "# Install and check if kallisto is ready\n",
    "conda install kallisto\n",
    "kallisto -h\n",
    "\n",
    "# build index\n",
    "mkdir kallisto_index && cd kallisto_index\n",
    "kallisto index -i drosophila_transcriptome.idx PATHTO/Drosophila_melanogaster.BDGP6.22.cdna.all.fa\n",
    "\n",
    "# quantification\n",
    "kallisto quant -i drosophila_transcriptome.idx -o /quant_kallisto/F_head1 PATH_TO_clean_R1.fq PATH_TO_clean_R2.fq\n",
    "```\n",
    "\n",
    "Now you've finished the kallisto alignment step, the results of the abundance of different genes are summarized in the file \n",
    "`abundance.tsv`. Be careful that the four samples's abundance file are of the same name. "
   ]
  }
 ],
 "metadata": {
  "kernelspec": {
   "display_name": "Python 3 (ipykernel)",
   "language": "python",
   "name": "python3"
  },
  "language_info": {
   "codemirror_mode": {
    "name": "ipython",
    "version": 3
   },
   "file_extension": ".py",
   "mimetype": "text/x-python",
   "name": "python",
   "nbconvert_exporter": "python",
   "pygments_lexer": "ipython3",
   "version": "3.9.7"
  }
 },
 "nbformat": 4,
 "nbformat_minor": 5
}
